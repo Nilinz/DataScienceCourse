{
  "cells": [
    {
      "cell_type": "markdown",
      "metadata": {
        "id": "b0Yf4NBJUSNM"
      },
      "source": [
        "# Створення нейронної мережі\n",
        "\n",
        "У цьому завданні ми створимо повнозв'язну нейронну мережу, використовуючи при цьому низькорівневі механізми tensorflow.\n",
        "\n",
        "Архітектура нейромережі представлена на наступному малюнку. Як бачиш, у ній є один вхідний шар, два приховані, а також вихідний шар. В якості активаційної функції у прихованих шарах буде використовуватись сигмоїда. На вихідному шарі ми використовуємо softmax.\n",
        "\n",
        "Частина коду зі створення мережі вже написана, тобі потрібно заповнити пропуски у вказаних місцях."
      ]
    },
    {
      "cell_type": "markdown",
      "metadata": {
        "id": "01rZWUu0USNQ"
      },
      "source": [
        "## Архітектура нейронної мережі\n",
        "\n",
        "<img src=\"http://cs231n.github.io/assets/nn1/neural_net2.jpeg\" alt=\"nn\" style=\"width: 400px;\"/>\n"
      ]
    },
    {
      "cell_type": "markdown",
      "metadata": {
        "id": "LLvIZ705Qw_V"
      },
      "source": [
        "## Про датасет MNIST\n",
        "\n",
        "Дану нейромережу ми будемо вивчати на датасеті MNIST. Цей датасет являє собою велику кількість зображень рукописних цифр розміром $28 \\times 28$ пікселів. Кожен піксель приймає значення від 0 до 255.\n",
        "\n",
        "Як і раніше, датасет буде розділений на навчальну та тестову вибірки. При цьому ми виконаємо нормалізацію всіх зображень, щоб значення пікселів знаходилось у проміжку від 0 до 1, розділивши яскравість кожного пікселя на 255.\n",
        "\n",
        "Окрім того, архітектура нейронної мережі очікує на вхід вектор. У нашому ж випадку кожен об'єкт вибірки являє собою матрицю. Що ж робити? У цьому завданні ми \"розтягнемо\" матрицю $28 \\times 28$, отримавши при цьому вектор, що складається з 784 елементів.\n",
        "\n",
        "![MNIST Dataset](https://www.researchgate.net/profile/Steven-Young-5/publication/306056875/figure/fig1/AS:393921575309346@1470929630835/Example-images-from-the-MNIST-dataset.png)\n",
        "\n",
        "Більше інформації про датасет можна знайти [тут](http://yann.lecun.com/exdb/mnist/)."
      ]
    },
    {
      "cell_type": "code",
      "execution_count": 42,
      "metadata": {
        "id": "il_0_5OyUSNR"
      },
      "outputs": [],
      "source": [
        "import tensorflow as tf\n",
        "import numpy as np\n",
        "import pandas as pd\n",
        "import matplotlib.pyplot as plt\n",
        "import random\n",
        "import keras as K\n",
        "import seaborn as sns\n",
        "from sklearn.metrics import confusion_matrix"
      ]
    },
    {
      "cell_type": "code",
      "execution_count": 43,
      "metadata": {
        "id": "cd-1_abTUSNS"
      },
      "outputs": [],
      "source": [
        "num_classes = 10 # загальна кількість класів, у нашому випадку це цифри від 0 до 9\n",
        "num_features = 784 # кількість атрибутів вхідного вектора 28 * 28 = 784\n",
        "\n",
        "learning_rate = 0.001 # швидкість навчання нейронної мережі\n",
        "training_steps = 3000 # максимальне число епох\n",
        "batch_size = 256 # перераховувати ваги мережі ми будемо не на всій вибірці, а на її випадковій підмножині з batch_size елементів\n",
        "display_step = 100 # кожні 100 ітерацій ми будемо показувати поточне значення функції втрат і точності\n",
        "\n",
        "n_hidden_1 = 128 # кількість нейронів 1-го шару\n",
        "n_hidden_2 = 256 # кількість нейронів 2-го шару"
      ]
    },
    {
      "cell_type": "code",
      "execution_count": 44,
      "metadata": {
        "id": "pGTXiRyTUSNT"
      },
      "outputs": [],
      "source": [
        "# from tensorflow.keras.datasets import mnist\n",
        "from keras.datasets import mnist\n",
        "\n",
        "# Завантажуємо датасет\n",
        "(x_train, y_train), (x_test, y_test) = mnist.load_data()\n",
        "\n",
        "# Перетворюємо цілочисельні пікселі на тип float32\n",
        "x_train, x_test = np.array(x_train, np.float32), np.array(x_test, np.float32)\n",
        "\n",
        "# Перетворюємо матриці розміром 28x28 пікселів у вектор з 784 елементів\n",
        "x_train, x_test = x_train.reshape([-1, num_features]), x_test.reshape([-1, num_features])\n",
        "\n",
        "# Нормалізуємо значення пікселів\n",
        "x_train, x_test = x_train / 255., x_test / 255.\n",
        "\n",
        "# Перемішаємо тренувальні дані\n",
        "train_data = tf.data.Dataset.from_tensor_slices((x_train, y_train))\n",
        "train_data = train_data.repeat().shuffle(5000).batch(batch_size).prefetch(1)"
      ]
    },
    {
      "cell_type": "code",
      "execution_count": 45,
      "metadata": {
        "id": "FkRmCQjnUSNV"
      },
      "outputs": [],
      "source": [
        "# Створимо нейронну мережу\n",
        "\n",
        "class DenseLayer(tf.Module):\n",
        "    def __init__(self, in_features, out_features, name=None):\n",
        "        super().__init__(name=name)\n",
        "        self.w = tf.Variable(\n",
        "            tf.random.normal([in_features, out_features]), name=\"w\"\n",
        "        )\n",
        "        self.b = tf.Variable(tf.zeros([out_features]), name=\"b\")\n",
        "\n",
        "    def __call__(self, x, activation=0):\n",
        "        y = tf.matmul(x, self.w) + self.b\n",
        "        if activation != 0:\n",
        "            return tf.nn.softmax(y)\n",
        "        else:\n",
        "            return tf.nn.sigmoid(y)\n",
        "\n",
        "class NN(tf.Module):\n",
        "  def __init__(self, name=None):\n",
        "    super().__init__(name=name)\n",
        "    # Перший шар, який складається з 128 нейронів\n",
        "    self.layer1 = DenseLayer(num_features, n_hidden_1, name= \"layer1\")\n",
        "    # Другий шар, який складається з 256 нейронів\n",
        "    self.layer2 = DenseLayer(n_hidden_1, n_hidden_2, name = \"layer2\")\n",
        "    # Вихідний шар\n",
        "    self.out_layer = DenseLayer(n_hidden_2, num_classes, name = \"out_layer\")\n",
        "\n",
        "\n",
        "  def __call__(self, x):\n",
        "    # Передача даних через перші два шари та вихідний шар з функцією активації softmax\n",
        "    x = self.layer1(x, activation = 1)\n",
        "    x = self.layer2(x, activation = 1)\n",
        "    x = self.out_layer(x, activation = 1)\n",
        "\n",
        "\n",
        "    return x"
      ]
    },
    {
      "cell_type": "code",
      "execution_count": 46,
      "metadata": {
        "id": "LIf3o7VAUSNV"
      },
      "outputs": [],
      "source": [
        "# В якості функції помилки в даному випадку зручно взяти крос-ентропію\n",
        "def cross_entropy(y_pred, y_true):\n",
        "    # Закодувати label в one hot vector\n",
        "    y_true = tf.one_hot(y_true, depth=num_classes)\n",
        "\n",
        "    # Значення передбачення, щоб уникнути помилки log(0).\n",
        "    y_pred = tf.clip_by_value(y_pred, 1e-9, 1.)\n",
        "\n",
        "    # Обчислення крос-ентропії\n",
        "    return tf.reduce_mean(-tf.reduce_sum(y_true * tf.math.log(y_pred)))\n",
        "\n",
        "# Як метрику якості використовуємо точність\n",
        "def accuracy(y_pred, y_true):\n",
        "    if len(y_true.shape) == 2:\n",
        "      y_true = tf.argmax(y_true, axis = 1)\n",
        "    correct_prediction = tf.equal(tf.argmax(y_pred, 1), tf.cast(y_true, tf.int64))\n",
        "    return tf.reduce_mean(tf.cast(correct_prediction, tf.float32))"
      ]
    },
    {
      "cell_type": "code",
      "execution_count": 47,
      "metadata": {
        "id": "MQeT1yatUSNW"
      },
      "outputs": [],
      "source": [
        "# Створимо екземпляр нейронної мережі\n",
        "neural_net = NN(name=\"mnist\")\n",
        "\n",
        "# Функція навчання нейромережі\n",
        "def train(neural_net, input_x, output_y):\n",
        "  # Для налаштування вагів мережі будемо використовувати стохастичний градієнтний спуск\n",
        "  optimizer = tf.optimizers.SGD(learning_rate)\n",
        "\n",
        "  # Активація автоматичного диференціювання\n",
        "  with tf.GradientTape() as g:\n",
        "    pred = neural_net(input_x)\n",
        "    loss = cross_entropy(pred, output_y)\n",
        "\n",
        "    # Отримаємо список оптимізованих параметрів\n",
        "    trainable_variables = neural_net.trainable_variables\n",
        "    # Обчислимо за ними значення градієнта\n",
        "    gradients = g.gradient(loss, trainable_variables)\n",
        "\n",
        "    # Модифікуємо параметри\n",
        "    optimizer.apply_gradients(zip(gradients, trainable_variables))"
      ]
    },
    {
      "cell_type": "code",
      "execution_count": 48,
      "metadata": {
        "id": "fnyns9lBfpQZ",
        "colab": {
          "base_uri": "https://localhost:8080/"
        },
        "outputId": "26dcf136-033e-4e8c-d3c8-e87c2473c568"
      },
      "outputs": [
        {
          "output_type": "stream",
          "name": "stdout",
          "text": [
            "Step: 100, Loss: 584.229248046875, Accuracy: 0.1328125\n",
            "Step: 200, Loss: 584.4210205078125, Accuracy: 0.1484375\n",
            "Step: 300, Loss: 584.5462036132812, Accuracy: 0.1484375\n",
            "Step: 400, Loss: 582.7911376953125, Accuracy: 0.16015625\n",
            "Step: 500, Loss: 582.533447265625, Accuracy: 0.19921875\n",
            "Step: 600, Loss: 582.0791015625, Accuracy: 0.15625\n",
            "Step: 700, Loss: 575.5269775390625, Accuracy: 0.26171875\n",
            "Step: 800, Loss: 575.7274169921875, Accuracy: 0.203125\n",
            "Step: 900, Loss: 570.2871704101562, Accuracy: 0.28515625\n",
            "Step: 1000, Loss: 564.0712280273438, Accuracy: 0.33203125\n",
            "Step: 1100, Loss: 561.2693481445312, Accuracy: 0.28125\n",
            "Step: 1200, Loss: 535.3954467773438, Accuracy: 0.2890625\n",
            "Step: 1300, Loss: 531.9107055664062, Accuracy: 0.2890625\n",
            "Step: 1400, Loss: 511.41717529296875, Accuracy: 0.33203125\n",
            "Step: 1500, Loss: 471.50677490234375, Accuracy: 0.40625\n",
            "Step: 1600, Loss: 436.22857666015625, Accuracy: 0.39453125\n",
            "Step: 1700, Loss: 450.2102355957031, Accuracy: 0.3671875\n",
            "Step: 1800, Loss: 431.5952453613281, Accuracy: 0.41796875\n",
            "Step: 1900, Loss: 407.2633056640625, Accuracy: 0.43359375\n",
            "Step: 2000, Loss: 373.18328857421875, Accuracy: 0.51171875\n",
            "Step: 2100, Loss: 378.002685546875, Accuracy: 0.46484375\n",
            "Step: 2200, Loss: 350.55340576171875, Accuracy: 0.50390625\n",
            "Step: 2300, Loss: 369.8243103027344, Accuracy: 0.453125\n",
            "Step: 2400, Loss: 339.7864685058594, Accuracy: 0.48828125\n",
            "Step: 2500, Loss: 346.82891845703125, Accuracy: 0.44921875\n",
            "Step: 2600, Loss: 325.168212890625, Accuracy: 0.48828125\n",
            "Step: 2700, Loss: 348.7803955078125, Accuracy: 0.47265625\n",
            "Step: 2800, Loss: 301.11004638671875, Accuracy: 0.49609375\n",
            "Step: 2900, Loss: 304.99420166015625, Accuracy: 0.55859375\n",
            "Step: 3000, Loss: 333.2577209472656, Accuracy: 0.53125\n"
          ]
        }
      ],
      "source": [
        "# Тренування мережі\n",
        "\n",
        "loss_history = []  # кожні display_step кроків зберігай в цьому списку поточну помилку нейромережі\n",
        "accuracy_history = [] # кожні display_step кроків зберігай в цьому списку поточну точність нейромережі\n",
        "\n",
        "# У цьому циклі ми будемо проводити навчання нейронної мережі\n",
        "# із тренувального датасета train_data вилучи випадкову підмножину, на якій\n",
        "# відбудеться тренування. Використовуй метод take, доступний для тренувального датасета.\n",
        "for step, (batch_x, batch_y) in enumerate(train_data.take(training_steps), 1):\n",
        "    # Оновлюємо ваги нейронної мережі\n",
        "    train(neural_net, batch_x, batch_y)\n",
        "\n",
        "    if step % display_step == 0:\n",
        "        pred = neural_net(batch_x)\n",
        "        loss = cross_entropy(pred, batch_y)\n",
        "        acc = accuracy(pred, batch_y)\n",
        "        loss_history.append(loss)\n",
        "        accuracy_history.append(acc)\n",
        "        print(f\"Step: {step}, Loss: {loss}, Accuracy: {acc}\")"
      ]
    },
    {
      "cell_type": "code",
      "execution_count": 49,
      "metadata": {
        "id": "_yCBfG6MbQB2",
        "colab": {
          "base_uri": "https://localhost:8080/",
          "height": 927
        },
        "outputId": "e1c9b113-5596-42af-8274-a51848308f6e"
      },
      "outputs": [
        {
          "output_type": "display_data",
          "data": {
            "text/plain": [
              "<Figure size 640x480 with 1 Axes>"
            ],
            "image/png": "[encoded data removed]"
          },
          "metadata": {}
        },
        {
          "output_type": "display_data",
          "data": {
            "text/plain": [
              "<Figure size 640x480 with 1 Axes>"
            ],
            "image/png": "[encoded data removed]"
          },
          "metadata": {}
        }
      ],
      "source": [
        "# Виведіть графіки залежності зміни точності і втрат від кроку\n",
        "# Якщо все зроблено правильно, то точність повинна зростати, а втрати зменшуватись\n",
        "\n",
        "import matplotlib.pyplot as plt\n",
        "\n",
        "# Виведіть графік функції втрат\n",
        "plt.plot(loss_history, label='Loss')\n",
        "plt.xlabel('Iterations')\n",
        "plt.ylabel('Loss')\n",
        "plt.title('Training Loss')\n",
        "plt.legend()\n",
        "plt.show()\n",
        "\n",
        "\n",
        "# Виведіть графік точності\n",
        "plt.plot(accuracy_history, label='Accuracy')\n",
        "plt.xlabel('Iterations')\n",
        "plt.ylabel('Accuracy')\n",
        "plt.title('Training Accuracy')\n",
        "plt.legend()\n",
        "plt.show()"
      ]
    },
    {
      "cell_type": "code",
      "execution_count": 50,
      "metadata": {
        "id": "LE3g4gDyUSNY",
        "colab": {
          "base_uri": "https://localhost:8080/"
        },
        "outputId": "04224b4b-01cf-4eac-ba7d-acacba2c8a53"
      },
      "outputs": [
        {
          "output_type": "stream",
          "name": "stdout",
          "text": [
            "Test Accuracy: 0.4997999966144562\n"
          ]
        }
      ],
      "source": [
        "# Обчисліть точність навченої нейромережі\n",
        "\n",
        "# Тестування моделі на тестових даних\n",
        "test_pred = neural_net(x_test)\n",
        "test_acc = accuracy(test_pred, y_test)\n",
        "print(f\"Test Accuracy: {test_acc}\")"
      ]
    },
    {
      "cell_type": "code",
      "execution_count": 51,
      "metadata": {
        "id": "_EEHAubOUSNY",
        "colab": {
          "base_uri": "https://localhost:8080/",
          "height": 396
        },
        "outputId": "c9bfc6ac-f7ff-4033-fec5-856bbd532f1f"
      },
      "outputs": [
        {
          "output_type": "display_data",
          "data": {
            "text/plain": [
              "<Figure size 1000x500 with 10 Axes>"
            ],
            "image/png": "[encoded data removed]"
          },
          "metadata": {}
        }
      ],
      "source": [
        "# Протестуйте навчену нейромережу на 10 зображеннях. З тестової вибірки візьміть 5\n",
        "# випадкових зображень і передайте їх у нейронну мережу.\n",
        "# Виведіть зображення та випишіть  поруч відповідь нейромережі.\n",
        "# Зробіть висновок про те, чи помиляється твоя нейронна мережа, і якщо так, то як часто?\n",
        "\n",
        "num_test_images = 10\n",
        "random_indices = np.random.choice(len(x_test), num_test_images, replace=False)\n",
        "test_images = x_test[random_indices]\n",
        "test_labels = y_test[random_indices]\n",
        "\n",
        "predictions = neural_net(test_images)\n",
        "predicted_labels = tf.argmax(predictions, axis=1)\n",
        "\n",
        "plt.figure(figsize=(10, 5))\n",
        "for i in range(num_test_images):\n",
        "    plt.subplot(2, 5, i + 1)\n",
        "    plt.imshow(np.reshape(test_images[i], (28, 28)), cmap='gray')\n",
        "    plt.title(f\"True: {test_labels[i]}, Predicted: {predicted_labels[i]}\", fontsize=8)\n",
        "    plt.axis('off')\n",
        "plt.show()"
      ]
    },
    {
      "cell_type": "code",
      "source": [
        "#Метрики якості для кожного класу навченої моделі, використовуючи https://scikit-learn.org/stable/modules/generated/sklearn.metrics.classification_report.html\n",
        "from sklearn.metrics import classification_report\n",
        "\n",
        "predicted_classes = tf.argmax(neural_net(x_test), axis=1)\n",
        "\n",
        "print(classification_report(y_test, predicted_classes))\n"
      ],
      "metadata": {
        "colab": {
          "base_uri": "https://localhost:8080/"
        },
        "id": "8ekwXpqsO07D",
        "outputId": "e850023c-93ed-4c9b-bc1f-62225baf3c17"
      },
      "execution_count": 52,
      "outputs": [
        {
          "output_type": "stream",
          "name": "stdout",
          "text": [
            "              precision    recall  f1-score   support\n",
            "\n",
            "           0       0.85      0.92      0.88       980\n",
            "           1       0.95      0.89      0.92      1135\n",
            "           2       0.15      0.02      0.04      1032\n",
            "           3       0.30      0.86      0.45      1010\n",
            "           4       0.00      0.00      0.00       982\n",
            "           5       0.41      0.43      0.42       892\n",
            "           6       0.86      0.91      0.88       958\n",
            "           7       0.33      0.77      0.46      1028\n",
            "           8       0.30      0.01      0.01       974\n",
            "           9       0.29      0.15      0.20      1009\n",
            "\n",
            "    accuracy                           0.50     10000\n",
            "   macro avg       0.44      0.49      0.43     10000\n",
            "weighted avg       0.45      0.50      0.43     10000\n",
            "\n"
          ]
        },
        {
          "output_type": "stream",
          "name": "stderr",
          "text": [
            "/usr/local/lib/python3.10/dist-packages/sklearn/metrics/_classification.py:1344: UndefinedMetricWarning: Precision and F-score are ill-defined and being set to 0.0 in labels with no predicted samples. Use `zero_division` parameter to control this behavior.\n",
            "  _warn_prf(average, modifier, msg_start, len(result))\n",
            "/usr/local/lib/python3.10/dist-packages/sklearn/metrics/_classification.py:1344: UndefinedMetricWarning: Precision and F-score are ill-defined and being set to 0.0 in labels with no predicted samples. Use `zero_division` parameter to control this behavior.\n",
            "  _warn_prf(average, modifier, msg_start, len(result))\n",
            "/usr/local/lib/python3.10/dist-packages/sklearn/metrics/_classification.py:1344: UndefinedMetricWarning: Precision and F-score are ill-defined and being set to 0.0 in labels with no predicted samples. Use `zero_division` parameter to control this behavior.\n",
            "  _warn_prf(average, modifier, msg_start, len(result))\n"
          ]
        }
      ]
    },
    {
      "cell_type": "code",
      "source": [
        "from sklearn.model_selection import KFold\n",
        "\n",
        "n_folds = 5\n",
        "kf = KFold(n_splits=n_folds, shuffle=True)\n",
        "\n",
        "accuracy_scores = []\n",
        "\n",
        "for train_index, val_index in kf.split(x_train):\n",
        "    x_train_fold, x_val_fold = x_train[train_index], x_train[val_index]\n",
        "    y_train_fold, y_val_fold = y_train[train_index], y_train[val_index]\n",
        "\n",
        "\n",
        "    learning_rates = [0.0001, 0.001, 0.01, 0.1]\n",
        "\n",
        "    for lr in learning_rates:\n",
        "        neural_net = NN(name=\"mnist\")\n",
        "        train(neural_net, x_train_fold, y_train_fold)\n",
        "\n",
        "\n",
        "        predictions = neural_net(x_val_fold)\n",
        "        predicted_labels = tf.argmax(predictions, axis=1)\n",
        "        accuracy = np.mean(predicted_labels.numpy() == y_val_fold)\n",
        "        print(f\"Validation Accuracy (learning_rate={lr}): {accuracy}\")\n",
        "\n",
        "\n",
        "        accuracy_scores.append((lr, accuracy))\n",
        "\n",
        "\n",
        "for lr, accuracy in accuracy_scores:\n",
        "    print(f\"Learning Rate: {lr}, Accuracy: {accuracy}\")\n",
        "\n",
        "best_learning_rate, best_accuracy = max(accuracy_scores, key=lambda x: x[1])\n",
        "print(f\"Best Learning Rate: {best_learning_rate}, Best Accuracy: {best_accuracy}\")"
      ],
      "metadata": {
        "colab": {
          "base_uri": "https://localhost:8080/"
        },
        "id": "BKhKc5TzTmyM",
        "outputId": "187ace77-cdea-4706-dde2-0baf6d2cb74b"
      },
      "execution_count": 53,
      "outputs": [
        {
          "output_type": "stream",
          "name": "stdout",
          "text": [
            "Validation Accuracy (learning_rate=0.0001): 0.11075\n",
            "Validation Accuracy (learning_rate=0.001): 0.11075\n",
            "Validation Accuracy (learning_rate=0.01): 0.10366666666666667\n",
            "Validation Accuracy (learning_rate=0.1): 0.11075\n",
            "Validation Accuracy (learning_rate=0.0001): 0.17358333333333334\n",
            "Validation Accuracy (learning_rate=0.001): 0.1025\n",
            "Validation Accuracy (learning_rate=0.01): 0.11133333333333334\n",
            "Validation Accuracy (learning_rate=0.1): 0.1145\n",
            "Validation Accuracy (learning_rate=0.0001): 0.11391666666666667\n",
            "Validation Accuracy (learning_rate=0.001): 0.11116666666666666\n",
            "Validation Accuracy (learning_rate=0.01): 0.10458333333333333\n",
            "Validation Accuracy (learning_rate=0.1): 0.11433333333333333\n",
            "Validation Accuracy (learning_rate=0.0001): 0.11491666666666667\n",
            "Validation Accuracy (learning_rate=0.001): 0.11166666666666666\n",
            "Validation Accuracy (learning_rate=0.01): 0.08975\n",
            "Validation Accuracy (learning_rate=0.1): 0.11483333333333333\n",
            "Validation Accuracy (learning_rate=0.0001): 0.10916666666666666\n",
            "Validation Accuracy (learning_rate=0.001): 0.11316666666666667\n",
            "Validation Accuracy (learning_rate=0.01): 0.16066666666666668\n",
            "Validation Accuracy (learning_rate=0.1): 0.10966666666666666\n",
            "Learning Rate: 0.0001, Accuracy: 0.11075\n",
            "Learning Rate: 0.001, Accuracy: 0.11075\n",
            "Learning Rate: 0.01, Accuracy: 0.10366666666666667\n",
            "Learning Rate: 0.1, Accuracy: 0.11075\n",
            "Learning Rate: 0.0001, Accuracy: 0.17358333333333334\n",
            "Learning Rate: 0.001, Accuracy: 0.1025\n",
            "Learning Rate: 0.01, Accuracy: 0.11133333333333334\n",
            "Learning Rate: 0.1, Accuracy: 0.1145\n",
            "Learning Rate: 0.0001, Accuracy: 0.11391666666666667\n",
            "Learning Rate: 0.001, Accuracy: 0.11116666666666666\n",
            "Learning Rate: 0.01, Accuracy: 0.10458333333333333\n",
            "Learning Rate: 0.1, Accuracy: 0.11433333333333333\n",
            "Learning Rate: 0.0001, Accuracy: 0.11491666666666667\n",
            "Learning Rate: 0.001, Accuracy: 0.11166666666666666\n",
            "Learning Rate: 0.01, Accuracy: 0.08975\n",
            "Learning Rate: 0.1, Accuracy: 0.11483333333333333\n",
            "Learning Rate: 0.0001, Accuracy: 0.10916666666666666\n",
            "Learning Rate: 0.001, Accuracy: 0.11316666666666667\n",
            "Learning Rate: 0.01, Accuracy: 0.16066666666666668\n",
            "Learning Rate: 0.1, Accuracy: 0.10966666666666666\n",
            "Best Learning Rate: 0.0001, Best Accuracy: 0.17358333333333334\n"
          ]
        }
      ]
    }
  ],
  "metadata": {
    "colab": {
      "provenance": []
    },
    "kernelspec": {
      "display_name": "Python 3 (ipykernel)",
      "language": "python",
      "name": "python3"
    },
    "language_info": {
      "codemirror_mode": {
        "name": "ipython",
        "version": 3
      },
      "file_extension": ".py",
      "mimetype": "text/x-python",
      "name": "python",
      "nbconvert_exporter": "python",
      "pygments_lexer": "ipython3",
      "version": "3.9.2"
    }
  },
  "nbformat": 4,
  "nbformat_minor": 0
}