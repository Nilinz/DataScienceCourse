{
  "nbformat": 4,
  "nbformat_minor": 0,
  "metadata": {
    "colab": {
      "provenance": []
    },
    "kernelspec": {
      "name": "python3",
      "display_name": "Python 3"
    },
    "language_info": {
      "name": "python"
    }
  },
  "cells": [
    {
      "cell_type": "code",
      "source": [
        "pip install surprise"
      ],
      "metadata": {
        "colab": {
          "base_uri": "https://localhost:8080/"
        },
        "id": "T4ItEVzz6PLN",
        "outputId": "9054ad30-6aea-455b-8017-314ea0ed9d66"
      },
      "execution_count": 4,
      "outputs": [
        {
          "output_type": "stream",
          "name": "stdout",
          "text": [
            "Requirement already satisfied: surprise in /usr/local/lib/python3.10/dist-packages (0.1)\n",
            "Requirement already satisfied: scikit-surprise in /usr/local/lib/python3.10/dist-packages (from surprise) (1.1.3)\n",
            "Requirement already satisfied: joblib>=1.0.0 in /usr/local/lib/python3.10/dist-packages (from scikit-surprise->surprise) (1.3.2)\n",
            "Requirement already satisfied: numpy>=1.17.3 in /usr/local/lib/python3.10/dist-packages (from scikit-surprise->surprise) (1.25.2)\n",
            "Requirement already satisfied: scipy>=1.3.2 in /usr/local/lib/python3.10/dist-packages (from scikit-surprise->surprise) (1.11.4)\n"
          ]
        }
      ]
    },
    {
      "cell_type": "code",
      "execution_count": 3,
      "metadata": {
        "colab": {
          "base_uri": "https://localhost:8080/"
        },
        "id": "zfcYKw_m6Kk2",
        "outputId": "87706a1a-bbf2-4492-b92c-d2e959da3ce0"
      },
      "outputs": [
        {
          "output_type": "stream",
          "name": "stdout",
          "text": [
            "Dataset ml-100k could not be found. Do you want to download it? [Y/n] Y\n",
            "Trying to download dataset from https://files.grouplens.org/datasets/movielens/ml-100k.zip...\n",
            "Done! Dataset ml-100k has been saved to /root/.surprise_data/ml-100k\n",
            "Evaluating RMSE, MAE of algorithm SVD on 5 split(s).\n",
            "\n",
            "                  Fold 1  Fold 2  Fold 3  Fold 4  Fold 5  Mean    Std     \n",
            "RMSE (testset)    0.9329  0.9306  0.9399  0.9367  0.9364  0.9353  0.0032  \n",
            "MAE (testset)     0.7356  0.7358  0.7393  0.7392  0.7376  0.7375  0.0016  \n",
            "Fit time          1.34    1.38    1.35    1.60    1.70    1.47    0.15    \n",
            "Test time         0.12    0.19    0.17    0.30    0.21    0.20    0.06    \n"
          ]
        },
        {
          "output_type": "execute_result",
          "data": {
            "text/plain": [
              "{'test_rmse': array([0.93294698, 0.93058269, 0.93989517, 0.93674415, 0.93642064]),\n",
              " 'test_mae': array([0.73560993, 0.73577773, 0.7392794 , 0.73917046, 0.73759291]),\n",
              " 'fit_time': (1.3388323783874512,\n",
              "  1.380570888519287,\n",
              "  1.3475775718688965,\n",
              "  1.599442481994629,\n",
              "  1.6965372562408447),\n",
              " 'test_time': (0.11756086349487305,\n",
              "  0.19490528106689453,\n",
              "  0.17086195945739746,\n",
              "  0.3005380630493164,\n",
              "  0.21400070190429688)}"
            ]
          },
          "metadata": {},
          "execution_count": 3
        }
      ],
      "source": [
        "from surprise import Dataset, SVD\n",
        "from surprise.model_selection import cross_validate\n",
        "from surprise import Dataset, KNNBasic\n",
        "\n",
        "\n",
        "data = Dataset.load_builtin(\"ml-100k\")\n",
        "\n",
        "algo = SVD()\n",
        "\n",
        "# 5-fold cross-validation\n",
        "cross_validate(algo, data, measures=[\"RMSE\", \"MAE\"], cv=5, verbose=True)\n",
        "\n",
        "trainset = data.build_full_trainset()\n",
        "\n",
        "algo = KNNBasic()\n",
        "algo.fit(trainset)"
      ]
    },
    {
      "cell_type": "code",
      "source": [
        "from surprise import SVD, SVDpp, NMF, Dataset\n",
        "from surprise.model_selection import GridSearchCV\n",
        "\n",
        "param_grid = {\n",
        "    \"SVD\": {\"n_factors\": [50, 100], \"n_epochs\": [20, 30]},\n",
        "    \"SVD++\": {\"n_factors\": [50, 100], \"n_epochs\": [20, 30]},\n",
        "    \"NMF\": {\"n_factors\": [15, 20], \"n_epochs\": [50, 100]},\n",
        "}\n",
        "\n",
        "data = Dataset.load_builtin(\"ml-100k\")\n",
        "\n",
        "# SVD\n",
        "gs = GridSearchCV(SVD, param_grid[\"SVD\"], measures=[\"rmse\", \"mae\"], cv=5)\n",
        "\n",
        "gs.fit(data)\n",
        "\n",
        "print(\"Best RMSE score for SVD:\")\n",
        "print(gs.best_score[\"rmse\"])\n",
        "print(\"Best parameters for RMSE for SVD:\")\n",
        "print(gs.best_params[\"rmse\"])\n",
        "print(\"\\nBest MAE score for SVD:\")\n",
        "print(gs.best_score[\"mae\"])\n",
        "print(\"Best parameters for MAE for SVD:\")\n",
        "print(gs.best_params[\"mae\"])\n",
        "\n",
        "# SVD++\n",
        "gs = GridSearchCV(SVDpp, param_grid[\"SVD++\"], measures=[\"rmse\", \"mae\"], cv=5)\n",
        "\n",
        "gs.fit(data)\n",
        "\n",
        "print(\"\\nBest RMSE score for SVD++:\")\n",
        "print(gs.best_score[\"rmse\"])\n",
        "print(\"Best parameters for RMSE for SVD++:\")\n",
        "print(gs.best_params[\"rmse\"])\n",
        "print(\"\\nBest MAE score for SVD++:\")\n",
        "print(gs.best_score[\"mae\"])\n",
        "print(\"Best parameters for MAE for SVD++:\")\n",
        "print(gs.best_params[\"mae\"])\n",
        "\n",
        "# NMF\n",
        "gs = GridSearchCV(NMF, param_grid[\"NMF\"], measures=[\"rmse\", \"mae\"], cv=5)\n",
        "\n",
        "gs.fit(data)\n",
        "\n",
        "print(\"\\nBest RMSE score for NMF:\")\n",
        "print(gs.best_score[\"rmse\"])\n",
        "print(\"Best parameters for RMSE for NMF:\")\n",
        "print(gs.best_params[\"rmse\"])\n",
        "print(\"\\nBest MAE score for NMF:\")\n",
        "print(gs.best_score[\"mae\"])\n",
        "print(\"Best parameters for MAE for NMF:\")\n",
        "print(gs.best_params[\"mae\"])\n"
      ],
      "metadata": {
        "colab": {
          "base_uri": "https://localhost:8080/"
        },
        "id": "Iht_IlP679bu",
        "outputId": "77437ce5-ae71-497e-f066-de02a7705b38"
      },
      "execution_count": 6,
      "outputs": [
        {
          "output_type": "stream",
          "name": "stdout",
          "text": [
            "Best RMSE score for SVD:\n",
            "0.9330325207699094\n",
            "Best parameters for RMSE for SVD:\n",
            "{'n_factors': 50, 'n_epochs': 20}\n",
            "\n",
            "Best MAE score for SVD:\n",
            "0.7353933066267956\n",
            "Best parameters for MAE for SVD:\n",
            "{'n_factors': 50, 'n_epochs': 20}\n",
            "\n",
            "Best RMSE score for SVD++:\n",
            "0.9262800818259546\n",
            "Best parameters for RMSE for SVD++:\n",
            "{'n_factors': 50, 'n_epochs': 20}\n",
            "\n",
            "Best MAE score for SVD++:\n",
            "0.7254280343414343\n",
            "Best parameters for MAE for SVD++:\n",
            "{'n_factors': 50, 'n_epochs': 20}\n",
            "\n",
            "Best RMSE score for NMF:\n",
            "0.9534951205847676\n",
            "Best parameters for RMSE for NMF:\n",
            "{'n_factors': 20, 'n_epochs': 100}\n",
            "\n",
            "Best MAE score for NMF:\n",
            "0.7492750967140132\n",
            "Best parameters for MAE for NMF:\n",
            "{'n_factors': 20, 'n_epochs': 100}\n"
          ]
        }
      ]
    }
  ]
}