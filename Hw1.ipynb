{
  "nbformat": 4,
  "nbformat_minor": 0,
  "metadata": {
    "colab": {
      "provenance": []
    },
    "kernelspec": {
      "name": "python3",
      "display_name": "Python 3"
    },
    "language_info": {
      "name": "python"
    }
  },
  "cells": [
    {
      "cell_type": "code",
      "execution_count": 1,
      "metadata": {
        "id": "CYEi0-hzFiaH"
      },
      "outputs": [],
      "source": [
        "import numpy as np"
      ]
    },
    {
      "cell_type": "code",
      "source": [
        "#1. Створіть одновимірний масив (вектор) з першими 10-ма натуральними числами та виведіть його значення.\n",
        "a = np.array([0, 1, 2, 3, 4, 5, 6, 7, 8, 9], dtype=int)\n",
        "print(a)"
      ],
      "metadata": {
        "colab": {
          "base_uri": "https://localhost:8080/"
        },
        "id": "12dSqklWGrop",
        "outputId": "994c9f58-0829-43aa-97f8-50301c48ff38"
      },
      "execution_count": 4,
      "outputs": [
        {
          "output_type": "stream",
          "name": "stdout",
          "text": [
            "[0 1 2 3 4 5 6 7 8 9]\n"
          ]
        }
      ]
    },
    {
      "cell_type": "code",
      "source": [
        "#2. Створіть двовимірний масив (матрицю) розміром 3x3, заповніть його нулями та виведіть його значення.\n",
        "m = np.array([[0, 0, 0], [0, 0, 0], [0, 0, 0]], dtype=int)\n",
        "\n",
        "print(m)"
      ],
      "metadata": {
        "colab": {
          "base_uri": "https://localhost:8080/"
        },
        "id": "N9HJnc9YzQ3U",
        "outputId": "8caf48ab-bf12-4d75-f3fd-b38cdbe29c23"
      },
      "execution_count": 6,
      "outputs": [
        {
          "output_type": "stream",
          "name": "stdout",
          "text": [
            "[[0 0 0]\n",
            " [0 0 0]\n",
            " [0 0 0]]\n"
          ]
        }
      ]
    },
    {
      "cell_type": "code",
      "source": [
        "#3.  Створіть масив розміром 5x5, заповніть його випадковими цілими числами в діапазоні від 1 до 10 та виведіть його значення.\n",
        "rows, cols = 5, 5\n",
        "\n",
        "array = np.random.randint(1, 11, size=(rows, cols))\n",
        "\n",
        "print(array)"
      ],
      "metadata": {
        "colab": {
          "base_uri": "https://localhost:8080/"
        },
        "id": "_L2O5k6dzbP8",
        "outputId": "23ed7fb5-77f8-48e6-f5ee-729b1ffb4e15"
      },
      "execution_count": 7,
      "outputs": [
        {
          "output_type": "stream",
          "name": "stdout",
          "text": [
            "[[10  4  6 10  3]\n",
            " [ 4  2  8 10 10]\n",
            " [ 6  1  3  1  1]\n",
            " [ 8  2  8  5  4]\n",
            " [ 2  6  3  6  1]]\n"
          ]
        }
      ]
    },
    {
      "cell_type": "code",
      "source": [
        "#4. Створіть масив розміром 4x4, заповніть його випадковими дійсними числами в діапазоні від 0 до 1 та виведіть його значення.\n",
        "\n",
        "\n",
        "rows, cols = 4, 4\n",
        "min, max = 0, 1.0\n",
        "\n",
        "array = np.random.uniform(min, max, size=(rows, cols))\n",
        "\n",
        "print(array)"
      ],
      "metadata": {
        "colab": {
          "base_uri": "https://localhost:8080/"
        },
        "id": "zzlo8xDm0N4A",
        "outputId": "f8c9b88f-b754-48a4-9c70-2d773b15f42d"
      },
      "execution_count": 11,
      "outputs": [
        {
          "output_type": "stream",
          "name": "stdout",
          "text": [
            "[[0.97977943 0.91525142 0.37175133 0.73783477]\n",
            " [0.10721991 0.65375397 0.56945884 0.00928965]\n",
            " [0.52070995 0.76541706 0.10061202 0.56557534]\n",
            " [0.81063865 0.1927011  0.95994562 0.8323706 ]]\n"
          ]
        }
      ]
    },
    {
      "cell_type": "code",
      "source": [
        "#5.Створіть два одновимірних масиви розміром 5, заповніть їх випадковими цілими числами в діапазоні від 1 до 10 та виконайте на них поелементні операції додавання, віднімання та множення.\n",
        "a = np.random.randint(1, 11, size=5)\n",
        "b = np.random.randint(1, 11, size=5)\n",
        "sum = a + b\n",
        "diff = a - b\n",
        "product = a*b\n",
        "\n",
        "print(sum)\n",
        "print(diff)\n",
        "print(product)"
      ],
      "metadata": {
        "colab": {
          "base_uri": "https://localhost:8080/"
        },
        "id": "LX-6HMcy0rZZ",
        "outputId": "b51b77f3-bdb8-40fe-cde2-9c40067a8901"
      },
      "execution_count": 14,
      "outputs": [
        {
          "output_type": "stream",
          "name": "stdout",
          "text": [
            "[ 6  1 10 10  3] [ 9  6  3  4 10]\n",
            "[15  7 13 14 13]\n",
            "[-3 -5  7  6 -7]\n",
            "[54  6 30 40 30]\n"
          ]
        }
      ]
    },
    {
      "cell_type": "code",
      "source": [
        "#6. Створіть два вектори розміром 7, заповніть довільними числами та знайдіть їх скалярний добуток.\n",
        "a = np.random.rand(7)\n",
        "b = np.random.rand(7)\n",
        "\n",
        "scalar = np.dot(a,b)\n",
        "print(scalar)"
      ],
      "metadata": {
        "colab": {
          "base_uri": "https://localhost:8080/"
        },
        "id": "aqbVTMk50vpe",
        "outputId": "747f5400-29a6-41a3-811d-dc535ff9ea40"
      },
      "execution_count": 15,
      "outputs": [
        {
          "output_type": "stream",
          "name": "stdout",
          "text": [
            "1.1282955757586397\n"
          ]
        }
      ]
    },
    {
      "cell_type": "code",
      "source": [
        "#7. Створіть дві матриці розміром 2x2 та 2x3, заповніть їх випадковими цілими числами в діапазоні від 1 до 10 та перемножте їх між собою.\n",
        "m1 = np.random.randint(1, 11, size =(2,2))\n",
        "m2 = np.random.randint(1, 11, size= (2,3))\n",
        "\n",
        "product = np.dot(m1, m2)\n",
        "print(product)"
      ],
      "metadata": {
        "colab": {
          "base_uri": "https://localhost:8080/"
        },
        "id": "bMrbELWU1Aj6",
        "outputId": "ca0de7ec-8a27-4ea2-e924-5134e29d6575"
      },
      "execution_count": 18,
      "outputs": [
        {
          "output_type": "stream",
          "name": "stdout",
          "text": [
            "[[ 6  9 17]\n",
            " [ 6  9 17]]\n"
          ]
        }
      ]
    },
    {
      "cell_type": "code",
      "source": [
        "#8 Створіть матрицю розміром 3x3, заповніть її випадковими цілими числами в діапазоні від 1 до 10 та знайдіть її обернену матрицю.\n",
        "m = np.random.randint(1, 11, size =(3, 3))\n",
        "print(m)\n",
        "\n",
        "m_inv = np.linalg.inv(m)\n",
        "print(m_inv)\n"
      ],
      "metadata": {
        "colab": {
          "base_uri": "https://localhost:8080/"
        },
        "id": "zCxOY_yk1Daj",
        "outputId": "f9f36ea3-7f28-415e-99c4-f568a27c63df"
      },
      "execution_count": 19,
      "outputs": [
        {
          "output_type": "stream",
          "name": "stdout",
          "text": [
            "[[10  9  3]\n",
            " [ 9  2  3]\n",
            " [ 2  8 10]]\n",
            "[[ 0.00675676  0.11148649 -0.03547297]\n",
            " [ 0.14189189 -0.15878378  0.00506757]\n",
            " [-0.11486486  0.10472973  0.10304054]]\n"
          ]
        }
      ]
    },
    {
      "cell_type": "code",
      "source": [
        "#9 Створіть матрицю розміром 4x4, заповніть її випадковими дійсними числами в діапазоні від 0 до 1 та транспонуйте її.\n",
        "\n",
        "m = np.random.uniform(0, 1.0, size=(4,4))\n",
        "b = m.T\n",
        "\n",
        "print(b)"
      ],
      "metadata": {
        "colab": {
          "base_uri": "https://localhost:8080/"
        },
        "id": "9WUmxk4e1ETT",
        "outputId": "9a616b8b-e977-4d22-b3d7-320287f46881"
      },
      "execution_count": 21,
      "outputs": [
        {
          "output_type": "stream",
          "name": "stdout",
          "text": [
            "[[0.40521519 0.40128254 0.5121778  0.21191053]\n",
            " [0.59700926 0.60199624 0.43546298 0.03888895]\n",
            " [0.96552962 0.14489279 0.70181658 0.86387195]\n",
            " [0.94963052 0.0085561  0.99675405 0.31697613]]\n",
            "[[0.40521519 0.59700926 0.96552962 0.94963052]\n",
            " [0.40128254 0.60199624 0.14489279 0.0085561 ]\n",
            " [0.5121778  0.43546298 0.70181658 0.99675405]\n",
            " [0.21191053 0.03888895 0.86387195 0.31697613]]\n"
          ]
        }
      ]
    },
    {
      "cell_type": "code",
      "source": [
        "#10 Створіть матрицю розміром 3x4 та вектор розміром 4, заповніть їх випадковими цілими числами в діапазоні від 1 до 10 та перемножте матрицю на вектор.\n",
        "m1 = np.random.randint(1, 11, size =(3,4))\n",
        "a = np.random.randint(1, 11, size=4)\n",
        "\n",
        "product = np.dot(m1, a)\n",
        "print(product)"
      ],
      "metadata": {
        "colab": {
          "base_uri": "https://localhost:8080/"
        },
        "id": "1x-cdoeO1EyW",
        "outputId": "e19a2732-821b-463c-d523-8d85592f9204"
      },
      "execution_count": 7,
      "outputs": [
        {
          "output_type": "stream",
          "name": "stdout",
          "text": [
            "[ 66 112 157]\n"
          ]
        }
      ]
    },
    {
      "cell_type": "code",
      "source": [
        "#11 Створіть матрицю розміром 2x3 та вектор розміром 3, заповніть їх випадковими дійсними числами в діапазоні від 0 до 1 та перемножте матрицю на вектор.\n",
        "m = np.random.uniform(0, 1.0, size=(2,3))\n",
        "a = np.random.uniform(1, 11, size=3)\n",
        "\n",
        "product = np.dot(m, a)\n",
        "print(product)"
      ],
      "metadata": {
        "colab": {
          "base_uri": "https://localhost:8080/"
        },
        "id": "rq_i6gQ21FZD",
        "outputId": "b4eecc00-07b3-4675-8933-b24e9a8b211f"
      },
      "execution_count": 9,
      "outputs": [
        {
          "output_type": "stream",
          "name": "stdout",
          "text": [
            "[ 3.68606289 10.80738456]\n"
          ]
        }
      ]
    },
    {
      "cell_type": "code",
      "source": [
        "#12 Створіть дві матриці розміром 2x2, заповніть їх випадковими цілими числами в діапазоні від 1 до 10 та виконайте їхнє поелементне множення.\n",
        "m1 = np.random.randint(1, 11, size =(2,2))\n",
        "m2 = np.random.randint(1, 11, size= (2,2))\n",
        "\n",
        "print(m1*m2)\n"
      ],
      "metadata": {
        "colab": {
          "base_uri": "https://localhost:8080/"
        },
        "id": "cVvlAKpe1F1W",
        "outputId": "055cb509-87c1-4f88-b44e-ba82e1008e8e"
      },
      "execution_count": 11,
      "outputs": [
        {
          "output_type": "stream",
          "name": "stdout",
          "text": [
            "[[63 48]\n",
            " [30 42]]\n"
          ]
        }
      ]
    },
    {
      "cell_type": "code",
      "source": [
        "#13 Створіть дві матриці розміром 2x2, заповніть їх випадковими цілими числами в діапазоні від 1 до 10 та знайдіть їх добуток.\n",
        "m1 = np.random.randint(1, 11, size =(2,2))\n",
        "m2 = np.random.randint(1, 11, size= (2,2))\n",
        "\n",
        "product = np.dot(m1,m2)\n",
        "print(product)"
      ],
      "metadata": {
        "colab": {
          "base_uri": "https://localhost:8080/"
        },
        "id": "gz0ogMB2Hu7p",
        "outputId": "50dea4ee-f770-4e89-8a70-f6af661cb1e5"
      },
      "execution_count": 14,
      "outputs": [
        {
          "output_type": "stream",
          "name": "stdout",
          "text": [
            "[[32 30]\n",
            " [65 50]]\n"
          ]
        }
      ]
    },
    {
      "cell_type": "code",
      "source": [
        "#14 Створіть матрицю розміром 5x5, заповніть її випадковими цілими числами в діапазоні від 1 до 100 та знайдіть суму елементів матриці.\n",
        "m1 = np.random.randint(1, 101, size =(5,5))\n",
        "print(m1.sum())"
      ],
      "metadata": {
        "colab": {
          "base_uri": "https://localhost:8080/"
        },
        "id": "mlctU_heHvF4",
        "outputId": "093a6f9c-bbde-438c-d357-5ca248e90919"
      },
      "execution_count": 20,
      "outputs": [
        {
          "output_type": "stream",
          "name": "stdout",
          "text": [
            "1237\n"
          ]
        }
      ]
    },
    {
      "cell_type": "code",
      "source": [
        "#15 Створіть дві матриці розміром 4x4, заповніть їх випадковими цілими числами в діапазоні від 1 до 10 та знайдіть їхню різницю.\n",
        "m1 = np.random.randint(1, 11, size =(4,4))\n",
        "m2 = np.random.randint(1, 11, size =(4,4))\n",
        "\n",
        "print(m1-m2)"
      ],
      "metadata": {
        "colab": {
          "base_uri": "https://localhost:8080/"
        },
        "id": "KvEWn4eXHvMh",
        "outputId": "42c0af5f-2c10-40df-853e-b4d5568f9189"
      },
      "execution_count": 23,
      "outputs": [
        {
          "output_type": "stream",
          "name": "stdout",
          "text": [
            "[[-3 -6 -3  4]\n",
            " [-4  0  5  0]\n",
            " [ 3 -2 -2  0]\n",
            " [ 0  0  1  5]]\n"
          ]
        }
      ]
    },
    {
      "cell_type": "code",
      "source": [
        "#16 Створіть матрицю розміром 3x3, заповніть її випадковими дійсними числами в діапазоні від 0 до 1 та знайдіть вектор-стовпчик, що містить суму елементів кожного рядка матриці.\n",
        "m = np.random.uniform(0, 1.0, size=(3, 3))\n",
        "\n",
        "vector = np.sum(m, axis=1, keepdims=True)\n",
        "print(vector)"
      ],
      "metadata": {
        "colab": {
          "base_uri": "https://localhost:8080/"
        },
        "id": "b_5M08Y6HvRG",
        "outputId": "39b43fa4-cece-4db1-eb29-16d0656b48ba"
      },
      "execution_count": 35,
      "outputs": [
        {
          "output_type": "stream",
          "name": "stdout",
          "text": [
            "[[0.78972506]\n",
            " [1.69484458]\n",
            " [1.7906857 ]]\n"
          ]
        }
      ]
    },
    {
      "cell_type": "code",
      "source": [
        "#17 Створіть матрицю розміром 3x4 з довільними цілими числами і створінь матрицю з квадратами цих чисел.\n",
        "m = np.random.randint(1, 11, size =(3,4))\n",
        "print(m)\n",
        "\n",
        "square_m = m**2\n",
        "\n",
        "print(square_m)"
      ],
      "metadata": {
        "colab": {
          "base_uri": "https://localhost:8080/"
        },
        "id": "EvM6xUxGHywn",
        "outputId": "8662e386-36ab-46a9-9ec2-9e44c7d459e2"
      },
      "execution_count": 36,
      "outputs": [
        {
          "output_type": "stream",
          "name": "stdout",
          "text": [
            "[[ 6 10 10  6]\n",
            " [ 2  6  5  3]\n",
            " [ 4  7  2  2]]\n",
            "[[ 36 100 100  36]\n",
            " [  4  36  25   9]\n",
            " [ 16  49   4   4]]\n"
          ]
        }
      ]
    },
    {
      "cell_type": "code",
      "source": [
        "#18 Створіть вектор розміром 4, заповніть його випадковими цілими числами в діапазоні від 1 до 50 та знайдіть вектор з квадратними коренями цих чисел.\n",
        "a = np.random.randint(1, 51, size =4)\n",
        "print(a)\n",
        "\n",
        "a_kor = np.sqrt(a)\n",
        "print(a_kor)"
      ],
      "metadata": {
        "colab": {
          "base_uri": "https://localhost:8080/"
        },
        "id": "kcXCaOVDHzk2",
        "outputId": "cb8d1058-b124-412d-f767-16a54d7fe3ed"
      },
      "execution_count": 42,
      "outputs": [
        {
          "output_type": "stream",
          "name": "stdout",
          "text": [
            "[ 4 40  7 48]\n",
            "[2.         6.32455532 2.64575131 6.92820323]\n"
          ]
        }
      ]
    }
  ]
}