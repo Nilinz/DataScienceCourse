{
  "nbformat": 4,
  "nbformat_minor": 0,
  "metadata": {
    "colab": {
      "provenance": []
    },
    "kernelspec": {
      "name": "python3",
      "display_name": "Python 3"
    },
    "language_info": {
      "name": "python"
    }
  },
  "cells": [
    {
      "cell_type": "code",
      "execution_count": 18,
      "metadata": {
        "id": "G41CEsPwBJ17"
      },
      "outputs": [],
      "source": [
        "import spacy\n",
        "from heapq import nlargest\n",
        "\n",
        "nlp = spacy.load('en_core_web_sm')\n",
        "\n",
        "text = \"\"\"The Orbiter Discovery, OV-103, is considered eligible for listing in the National Register of Historic Places (NRHP) in the context of the U.S. Space Shuttle Program\n",
        "(1969-2011) under Criterion A in the areas of Space Exploration and Transportation and under Criterion C in the area of Engineering. Because it has achieved significance within the pa\n",
        "st fifty years, Criteria Consideration G applies. Under Criterion A, Discovery is significant as the oldest of the three extant orbiter vehicles constructed for the Space Shutt\n",
        "le Program (SSP), the longest running American space program to date; she was the third of five orbiters built by NASA. Unlike the Mercury, Gemini, and Apollo programs, the SSP’s\n",
        "emphasis was on cost effectiveness and reusability, and eventually the construction of a space station. Including her maiden voyage (launched August 30, 1984), Discovery flew to\n",
        "space thirty-nine times, more than any of the other four orbiters; she was also the first orbiter to fly twenty missions. She had the honor of being chosen as the Return to Flight\n",
        "vehicle after both the Challenger and Columbia accidents. Discovery was the first shuttle to fly with the redesigned SRBs, a result of the Challenger accident, and the first shuttle\n",
        "to fly with the Phase II and Block I SSME. Discovery also carried the Hubble Space Telescope to orbit and performed two of the five servicing missions to the observatory. She flew\n",
        "the first and last dedicated Department of Defense (DoD) missions, as well as the first unclassified defense-related mission. In addition, Discovery was vital to the construction\n",
        "of the International Space Station (ISS); she flew thirteen of the thirty-seven total missions flown to the station by a U.S. Space Shuttle. She was the first orbiter to dock to\n",
        "the ISS, and the first to perform an exchange of a resident crew. Under Criterion C, Discovery is significant as a feat of engineering. According to Wayne Hale, a flight director\n",
        "from Johnson Space Center, the Space Shuttle orbiter represents a “huge technological leap from expendable rockets and capsules to a reusable, winged, hypersonic, cargo-carrying\n",
        "spacecraft.” Although her base structure followed a conventional aircraft design, she used advanced materials that both minimized her weight for cargo-carrying purposes and\n",
        "featured low thermal expansion ratios, which provided a stable base for her Thermal Protection System (TPS) materials. The Space Shuttle orbiter also featured the first reusable TPS;\n",
        "all previous spaceflight vehicles had a single-use, ablative heat shield. Other notable engineering achievements of the orbiter included the first reusable orbital propulsion system,\n",
        "and the first two-fault-tolerant Integrated Avionics System. As Hale stated, the Space Shuttle remains “the largest, fastest, winged hypersonic aircraft in history,” having regularly flown at\n",
        "twenty-five times the speed of sound.\n",
        "\"\"\"\n",
        "doc = nlp(text)\n",
        "\n",
        "sentences = [sent.text for sent in doc.sents]\n",
        "tokens = [token.text.lower() for token in doc if not token.is_stop and not token.is_punct]"
      ]
    },
    {
      "cell_type": "code",
      "source": [
        "word_frequencies = {}\n",
        "for word in tokens:\n",
        "    if word not in word_frequencies:\n",
        "        word_frequencies[word] = 1\n",
        "    else:\n",
        "        word_frequencies[word] += 1\n",
        "\n",
        "\n",
        "maximum_frequency = max(word_frequencies.values())\n",
        "for word in word_frequencies.keys():\n",
        "    word_frequencies[word] = word_frequencies[word] / maximum_frequency\n",
        "\n",
        "sentence_scores = {}\n",
        "for sent in sentences:\n",
        "    for word in nlp(sent):\n",
        "        if word.text.lower() in word_frequencies.keys():\n",
        "            if sent not in sentence_scores.keys():\n",
        "                sentence_scores[sent] = word_frequencies[word.text.lower()]\n",
        "            else:\n",
        "                sentence_scores[sent] += word_frequencies[word.text.lower()]\n",
        "\n",
        "summary_sentences = nlargest(3, sentence_scores, key=sentence_scores.get)\n",
        "summary = ' '.join(summary_sentences)\n",
        "\n",
        "print(summary)"
      ],
      "metadata": {
        "colab": {
          "base_uri": "https://localhost:8080/"
        },
        "id": "tn2SXtzdZdce",
        "outputId": "1c24a38f-348f-4b00-f9dd-9b72c6689d08"
      },
      "execution_count": 19,
      "outputs": [
        {
          "output_type": "stream",
          "name": "stdout",
          "text": [
            "According to Wayne Hale, a flight director\n",
            "from Johnson Space Center, the Space Shuttle orbiter represents a “huge technological leap from expendable rockets and capsules to a reusable, winged, hypersonic, cargo-carrying\n",
            "spacecraft.” The Orbiter Discovery, OV-103, is considered eligible for listing in the National Register of Historic Places (NRHP) in the context of the U.S. Space Shuttle Program\n",
            "(1969-2011) under Criterion A in the areas of Space Exploration and Transportation and under Criterion C in the area of Engineering. In addition, Discovery was vital to the construction\n",
            "of the International Space Station (ISS); she flew thirteen of the thirty-seven total missions flown to the station by a U.S. Space Shuttle.\n"
          ]
        }
      ]
    },
    {
      "cell_type": "code",
      "source": [
        "import nltk\n",
        "nltk.download('stopwords')\n",
        "nltk.download('punkt')\n",
        "\n",
        "from nltk.corpus import stopwords\n",
        "from nltk.tokenize import word_tokenize\n",
        "\n",
        "stop_words = set(stopwords.words('english'))\n",
        "\n",
        "word_tokens = word_tokenize(text)\n",
        "filtered_sentence = [w.lower() for w in word_tokens if w.lower() not in stop_words and w.isalpha()]\n",
        "\n",
        "\n",
        "for w in word_tokens:\n",
        "    if w not in stop_words:\n",
        "        filtered_sentence.append(w)\n",
        "\n",
        "print(word_tokens)\n",
        "print(filtered_sentence)"
      ],
      "metadata": {
        "colab": {
          "base_uri": "https://localhost:8080/"
        },
        "id": "biPlXXmLa_ES",
        "outputId": "9b46896a-c438-41d8-b770-342adf438bb1"
      },
      "execution_count": 20,
      "outputs": [
        {
          "output_type": "stream",
          "name": "stdout",
          "text": [
            "['The', 'Orbiter', 'Discovery', ',', 'OV-103', ',', 'is', 'considered', 'eligible', 'for', 'listing', 'in', 'the', 'National', 'Register', 'of', 'Historic', 'Places', '(', 'NRHP', ')', 'in', 'the', 'context', 'of', 'the', 'U.S.', 'Space', 'Shuttle', 'Program', '(', '1969-2011', ')', 'under', 'Criterion', 'A', 'in', 'the', 'areas', 'of', 'Space', 'Exploration', 'and', 'Transportation', 'and', 'under', 'Criterion', 'C', 'in', 'the', 'area', 'of', 'Engineering', '.', 'Because', 'it', 'has', 'achieved', 'significance', 'within', 'the', 'pa', 'st', 'fifty', 'years', ',', 'Criteria', 'Consideration', 'G', 'applies', '.', 'Under', 'Criterion', 'A', ',', 'Discovery', 'is', 'significant', 'as', 'the', 'oldest', 'of', 'the', 'three', 'extant', 'orbiter', 'vehicles', 'constructed', 'for', 'the', 'Space', 'Shutt', 'le', 'Program', '(', 'SSP', ')', ',', 'the', 'longest', 'running', 'American', 'space', 'program', 'to', 'date', ';', 'she', 'was', 'the', 'third', 'of', 'five', 'orbiters', 'built', 'by', 'NASA', '.', 'Unlike', 'the', 'Mercury', ',', 'Gemini', ',', 'and', 'Apollo', 'programs', ',', 'the', 'SSP', '’', 's', 'emphasis', 'was', 'on', 'cost', 'effectiveness', 'and', 'reusability', ',', 'and', 'eventually', 'the', 'construction', 'of', 'a', 'space', 'station', '.', 'Including', 'her', 'maiden', 'voyage', '(', 'launched', 'August', '30', ',', '1984', ')', ',', 'Discovery', 'flew', 'to', 'space', 'thirty-nine', 'times', ',', 'more', 'than', 'any', 'of', 'the', 'other', 'four', 'orbiters', ';', 'she', 'was', 'also', 'the', 'first', 'orbiter', 'to', 'fly', 'twenty', 'missions', '.', 'She', 'had', 'the', 'honor', 'of', 'being', 'chosen', 'as', 'the', 'Return', 'to', 'Flight', 'vehicle', 'after', 'both', 'the', 'Challenger', 'and', 'Columbia', 'accidents', '.', 'Discovery', 'was', 'the', 'first', 'shuttle', 'to', 'fly', 'with', 'the', 'redesigned', 'SRBs', ',', 'a', 'result', 'of', 'the', 'Challenger', 'accident', ',', 'and', 'the', 'first', 'shuttle', 'to', 'fly', 'with', 'the', 'Phase', 'II', 'and', 'Block', 'I', 'SSME', '.', 'Discovery', 'also', 'carried', 'the', 'Hubble', 'Space', 'Telescope', 'to', 'orbit', 'and', 'performed', 'two', 'of', 'the', 'five', 'servicing', 'missions', 'to', 'the', 'observatory', '.', 'She', 'flew', 'the', 'first', 'and', 'last', 'dedicated', 'Department', 'of', 'Defense', '(', 'DoD', ')', 'missions', ',', 'as', 'well', 'as', 'the', 'first', 'unclassified', 'defense-related', 'mission', '.', 'In', 'addition', ',', 'Discovery', 'was', 'vital', 'to', 'the', 'construction', 'of', 'the', 'International', 'Space', 'Station', '(', 'ISS', ')', ';', 'she', 'flew', 'thirteen', 'of', 'the', 'thirty-seven', 'total', 'missions', 'flown', 'to', 'the', 'station', 'by', 'a', 'U.S.', 'Space', 'Shuttle', '.', 'She', 'was', 'the', 'first', 'orbiter', 'to', 'dock', 'to', 'the', 'ISS', ',', 'and', 'the', 'first', 'to', 'perform', 'an', 'exchange', 'of', 'a', 'resident', 'crew', '.', 'Under', 'Criterion', 'C', ',', 'Discovery', 'is', 'significant', 'as', 'a', 'feat', 'of', 'engineering', '.', 'According', 'to', 'Wayne', 'Hale', ',', 'a', 'flight', 'director', 'from', 'Johnson', 'Space', 'Center', ',', 'the', 'Space', 'Shuttle', 'orbiter', 'represents', 'a', '“', 'huge', 'technological', 'leap', 'from', 'expendable', 'rockets', 'and', 'capsules', 'to', 'a', 'reusable', ',', 'winged', ',', 'hypersonic', ',', 'cargo-carrying', 'spacecraft.', '”', 'Although', 'her', 'base', 'structure', 'followed', 'a', 'conventional', 'aircraft', 'design', ',', 'she', 'used', 'advanced', 'materials', 'that', 'both', 'minimized', 'her', 'weight', 'for', 'cargo-carrying', 'purposes', 'and', 'featured', 'low', 'thermal', 'expansion', 'ratios', ',', 'which', 'provided', 'a', 'stable', 'base', 'for', 'her', 'Thermal', 'Protection', 'System', '(', 'TPS', ')', 'materials', '.', 'The', 'Space', 'Shuttle', 'orbiter', 'also', 'featured', 'the', 'first', 'reusable', 'TPS', ';', 'all', 'previous', 'spaceflight', 'vehicles', 'had', 'a', 'single-use', ',', 'ablative', 'heat', 'shield', '.', 'Other', 'notable', 'engineering', 'achievements', 'of', 'the', 'orbiter', 'included', 'the', 'first', 'reusable', 'orbital', 'propulsion', 'system', ',', 'and', 'the', 'first', 'two-fault-tolerant', 'Integrated', 'Avionics', 'System', '.', 'As', 'Hale', 'stated', ',', 'the', 'Space', 'Shuttle', 'remains', '“', 'the', 'largest', ',', 'fastest', ',', 'winged', 'hypersonic', 'aircraft', 'in', 'history', ',', '”', 'having', 'regularly', 'flown', 'at', 'twenty-five', 'times', 'the', 'speed', 'of', 'sound', '.']\n",
            "['orbiter', 'discovery', 'considered', 'eligible', 'listing', 'national', 'register', 'historic', 'places', 'nrhp', 'context', 'space', 'shuttle', 'program', 'criterion', 'areas', 'space', 'exploration', 'transportation', 'criterion', 'c', 'area', 'engineering', 'achieved', 'significance', 'within', 'pa', 'st', 'fifty', 'years', 'criteria', 'consideration', 'g', 'applies', 'criterion', 'discovery', 'significant', 'oldest', 'three', 'extant', 'orbiter', 'vehicles', 'constructed', 'space', 'shutt', 'le', 'program', 'ssp', 'longest', 'running', 'american', 'space', 'program', 'date', 'third', 'five', 'orbiters', 'built', 'nasa', 'unlike', 'mercury', 'gemini', 'apollo', 'programs', 'ssp', 'emphasis', 'cost', 'effectiveness', 'reusability', 'eventually', 'construction', 'space', 'station', 'including', 'maiden', 'voyage', 'launched', 'august', 'discovery', 'flew', 'space', 'times', 'four', 'orbiters', 'also', 'first', 'orbiter', 'fly', 'twenty', 'missions', 'honor', 'chosen', 'return', 'flight', 'vehicle', 'challenger', 'columbia', 'accidents', 'discovery', 'first', 'shuttle', 'fly', 'redesigned', 'srbs', 'result', 'challenger', 'accident', 'first', 'shuttle', 'fly', 'phase', 'ii', 'block', 'ssme', 'discovery', 'also', 'carried', 'hubble', 'space', 'telescope', 'orbit', 'performed', 'two', 'five', 'servicing', 'missions', 'observatory', 'flew', 'first', 'last', 'dedicated', 'department', 'defense', 'dod', 'missions', 'well', 'first', 'unclassified', 'mission', 'addition', 'discovery', 'vital', 'construction', 'international', 'space', 'station', 'iss', 'flew', 'thirteen', 'total', 'missions', 'flown', 'station', 'space', 'shuttle', 'first', 'orbiter', 'dock', 'iss', 'first', 'perform', 'exchange', 'resident', 'crew', 'criterion', 'c', 'discovery', 'significant', 'feat', 'engineering', 'according', 'wayne', 'hale', 'flight', 'director', 'johnson', 'space', 'center', 'space', 'shuttle', 'orbiter', 'represents', 'huge', 'technological', 'leap', 'expendable', 'rockets', 'capsules', 'reusable', 'winged', 'hypersonic', 'although', 'base', 'structure', 'followed', 'conventional', 'aircraft', 'design', 'used', 'advanced', 'materials', 'minimized', 'weight', 'purposes', 'featured', 'low', 'thermal', 'expansion', 'ratios', 'provided', 'stable', 'base', 'thermal', 'protection', 'system', 'tps', 'materials', 'space', 'shuttle', 'orbiter', 'also', 'featured', 'first', 'reusable', 'tps', 'previous', 'spaceflight', 'vehicles', 'ablative', 'heat', 'shield', 'notable', 'engineering', 'achievements', 'orbiter', 'included', 'first', 'reusable', 'orbital', 'propulsion', 'system', 'first', 'integrated', 'avionics', 'system', 'hale', 'stated', 'space', 'shuttle', 'remains', 'largest', 'fastest', 'winged', 'hypersonic', 'aircraft', 'history', 'regularly', 'flown', 'times', 'speed', 'sound', 'The', 'Orbiter', 'Discovery', ',', 'OV-103', ',', 'considered', 'eligible', 'listing', 'National', 'Register', 'Historic', 'Places', '(', 'NRHP', ')', 'context', 'U.S.', 'Space', 'Shuttle', 'Program', '(', '1969-2011', ')', 'Criterion', 'A', 'areas', 'Space', 'Exploration', 'Transportation', 'Criterion', 'C', 'area', 'Engineering', '.', 'Because', 'achieved', 'significance', 'within', 'pa', 'st', 'fifty', 'years', ',', 'Criteria', 'Consideration', 'G', 'applies', '.', 'Under', 'Criterion', 'A', ',', 'Discovery', 'significant', 'oldest', 'three', 'extant', 'orbiter', 'vehicles', 'constructed', 'Space', 'Shutt', 'le', 'Program', '(', 'SSP', ')', ',', 'longest', 'running', 'American', 'space', 'program', 'date', ';', 'third', 'five', 'orbiters', 'built', 'NASA', '.', 'Unlike', 'Mercury', ',', 'Gemini', ',', 'Apollo', 'programs', ',', 'SSP', '’', 'emphasis', 'cost', 'effectiveness', 'reusability', ',', 'eventually', 'construction', 'space', 'station', '.', 'Including', 'maiden', 'voyage', '(', 'launched', 'August', '30', ',', '1984', ')', ',', 'Discovery', 'flew', 'space', 'thirty-nine', 'times', ',', 'four', 'orbiters', ';', 'also', 'first', 'orbiter', 'fly', 'twenty', 'missions', '.', 'She', 'honor', 'chosen', 'Return', 'Flight', 'vehicle', 'Challenger', 'Columbia', 'accidents', '.', 'Discovery', 'first', 'shuttle', 'fly', 'redesigned', 'SRBs', ',', 'result', 'Challenger', 'accident', ',', 'first', 'shuttle', 'fly', 'Phase', 'II', 'Block', 'I', 'SSME', '.', 'Discovery', 'also', 'carried', 'Hubble', 'Space', 'Telescope', 'orbit', 'performed', 'two', 'five', 'servicing', 'missions', 'observatory', '.', 'She', 'flew', 'first', 'last', 'dedicated', 'Department', 'Defense', '(', 'DoD', ')', 'missions', ',', 'well', 'first', 'unclassified', 'defense-related', 'mission', '.', 'In', 'addition', ',', 'Discovery', 'vital', 'construction', 'International', 'Space', 'Station', '(', 'ISS', ')', ';', 'flew', 'thirteen', 'thirty-seven', 'total', 'missions', 'flown', 'station', 'U.S.', 'Space', 'Shuttle', '.', 'She', 'first', 'orbiter', 'dock', 'ISS', ',', 'first', 'perform', 'exchange', 'resident', 'crew', '.', 'Under', 'Criterion', 'C', ',', 'Discovery', 'significant', 'feat', 'engineering', '.', 'According', 'Wayne', 'Hale', ',', 'flight', 'director', 'Johnson', 'Space', 'Center', ',', 'Space', 'Shuttle', 'orbiter', 'represents', '“', 'huge', 'technological', 'leap', 'expendable', 'rockets', 'capsules', 'reusable', ',', 'winged', ',', 'hypersonic', ',', 'cargo-carrying', 'spacecraft.', '”', 'Although', 'base', 'structure', 'followed', 'conventional', 'aircraft', 'design', ',', 'used', 'advanced', 'materials', 'minimized', 'weight', 'cargo-carrying', 'purposes', 'featured', 'low', 'thermal', 'expansion', 'ratios', ',', 'provided', 'stable', 'base', 'Thermal', 'Protection', 'System', '(', 'TPS', ')', 'materials', '.', 'The', 'Space', 'Shuttle', 'orbiter', 'also', 'featured', 'first', 'reusable', 'TPS', ';', 'previous', 'spaceflight', 'vehicles', 'single-use', ',', 'ablative', 'heat', 'shield', '.', 'Other', 'notable', 'engineering', 'achievements', 'orbiter', 'included', 'first', 'reusable', 'orbital', 'propulsion', 'system', ',', 'first', 'two-fault-tolerant', 'Integrated', 'Avionics', 'System', '.', 'As', 'Hale', 'stated', ',', 'Space', 'Shuttle', 'remains', '“', 'largest', ',', 'fastest', ',', 'winged', 'hypersonic', 'aircraft', 'history', ',', '”', 'regularly', 'flown', 'twenty-five', 'times', 'speed', 'sound', '.']\n"
          ]
        },
        {
          "output_type": "stream",
          "name": "stderr",
          "text": [
            "[nltk_data] Downloading package stopwords to /root/nltk_data...\n",
            "[nltk_data]   Package stopwords is already up-to-date!\n",
            "[nltk_data] Downloading package punkt to /root/nltk_data...\n",
            "[nltk_data]   Package punkt is already up-to-date!\n"
          ]
        }
      ]
    }
  ]
}